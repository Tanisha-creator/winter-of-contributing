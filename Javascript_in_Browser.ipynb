{
  "nbformat": 4,
  "nbformat_minor": 0,
  "metadata": {
    "colab": {
      "name": "Javascript in Browser",
      "provenance": [],
      "authorship_tag": "ABX9TyMVdYZ+lF01Y8oTFKDJvFui",
      "include_colab_link": true
    },
    "kernelspec": {
      "name": "python3",
      "display_name": "Python 3"
    },
    "language_info": {
      "name": "python"
    }
  },
  "cells": [
    {
      "cell_type": "markdown",
      "metadata": {
        "id": "view-in-github",
        "colab_type": "text"
      },
      "source": [
        "<a href=\"https://colab.research.google.com/github/Tanisha-creator/winter-of-contributing/blob/Javascript/Javascript_in_Browser.ipynb\" target=\"_parent\"><img src=\"https://colab.research.google.com/assets/colab-badge.svg\" alt=\"Open In Colab\"/></a>"
      ]
    },
    {
      "cell_type": "markdown",
      "metadata": {
        "id": "vca98Z7Pb2TL"
      },
      "source": [
        "#**Introduction To Javascript** \n",
        "Javascript is a dynamic computer programming language. It is lightweight and most commonly used as a part of web pages, whose implementations allow client-side script to interact with the user and make dynamic pages. It is an interpreted programming language with object-oriented capabilities.\n",
        "Javascript capabilities greatly depend on the environment it's running in. For intance, Node.js supports functions that allow javascript to read/write arbitary files, perform network requests, etc."
      ]
    },
    {
      "cell_type": "markdown",
      "metadata": {
        "id": "bu2Qfi_5hCx2"
      },
      "source": [
        "# **Javascript In-Browser**\n",
        "In-browser javascript can do everything related to webpage manipulation, interaction with the user, and the webserver.<br>\n",
        "For instance, in -browser Javascript is able to:\n",
        "<ul>\n",
        "<li> Add new HTML file to the page, change the existing content, modify styles.</li><br>\n",
        "<li> React to user actions, run on mouse clicks, pointer movements, key presses. </li><br>\n",
        "<li> Send requests over the network to remote servers, download and upload files.</li><br>\n",
        "<li> Get and set cookies, ask questions to the visitor, show messages.</li><br>\n",
        "<li> Remember the data on the client-side (\"local storage\").</li><br>\n",
        "</ul>\n"
      ]
    },
    {
      "cell_type": "markdown",
      "metadata": {
        "id": "lMk0O7iUhGCN"
      },
      "source": [
        "# **The < script > Tag**\n",
        "In HTML, Javascript code is inserted between < script > and < /script> tags.<br>\n",
        "**Example**\n",
        "```\n",
        "< script >\n",
        "document.getElementById(\"demo).innerHTML = \"My First Javascript\";\n",
        "< /script >\n",
        "```\n",
        "\n",
        "\n",
        "\n"
      ]
    },
    {
      "cell_type": "markdown",
      "metadata": {
        "id": "65vZvJfDoQom"
      },
      "source": [
        "# **External Javascript**<br>\n",
        "Scripts can also be placed in external files. External scripts are practical when the same code is used in many different web pages.<br> \n",
        "Javascript files have the file **extention.js**.<br><br>\n",
        "To use an external script, put the name of the script file in the **src** (source) attribute of a < script > tag: <br>\n",
        "**Example**\n",
        "\n",
        "\n",
        "```\n",
        "< script src=\"myScript.js\">< /script >\n",
        "```\n",
        "You can place an external script reference in < head > or < body > as you like. But it is prefered to put it at the end of the body tag. The script will behave as if it was located exactly where the < script > tag is located.\n",
        "\n",
        "\n",
        "\n",
        "\n"
      ]
    },
    {
      "cell_type": "markdown",
      "metadata": {
        "id": "X03IgNUxq6Qs"
      },
      "source": [
        "# **External Javascript Advantages**<br>\n",
        "Placing scripts in external files has some advantages:\n",
        "\n",
        "*   It separates HTML and Javascript code\n",
        "*   It makes HTML and Javascript easier to read and maintain\n",
        "*   Cached Javascript files can speed up page loads <br>\n",
        "\n",
        "To add several script files to one page-use several script tags:<br>\n",
        "**Example**\n",
        "```\n",
        "< script src=\"myScript1.js\">< /script >\n",
        "< script src=\"myScript2.js\">< /script >\n",
        "```\n",
        "\n",
        "\n",
        "\n",
        "\n",
        "\n",
        "\n"
      ]
    },
    {
      "cell_type": "markdown",
      "metadata": {
        "id": "kO9xfpjhv6HP"
      },
      "source": [
        "# **Why do we need Javascript ❔**<br>\n",
        "While **HTML** is used to define the structure of the webpage and **CSS** is used to specify the style or layout of the webpage, **Javascript** is used to program the behaviour of the webpages. Javascript is used both on the client-side and server-side.<br>\n",
        "<br>\n",
        "Javascript is used for: <br>\n",
        "1.   Adding interactive behaviour to webpages to webpages\n",
        "2.   Creating web and mobile applications\n",
        "3.   Building web servers and developing server applications\n",
        "4.   Game development\n",
        "\n",
        "\n",
        "\n"
      ]
    },
    {
      "cell_type": "markdown",
      "metadata": {
        "id": "zb1H0wqsyXRi"
      },
      "source": [
        "# **Why use Javascript over other programming languages ❔**<br>\n",
        "*   Javascript is the only programming language native to the web browser\n",
        "*   Javascript is the most popular language with an ever-increasing scope\n",
        "*   There's a low threshold to get started\n",
        "*   It's an interesting language to learn.\n",
        "\n",
        "\n",
        "\n"
      ]
    }
  ]
}